{
 "cells": [
  {
   "cell_type": "code",
   "execution_count": 21,
   "metadata": {},
   "outputs": [
    {
     "name": "stdout",
     "output_type": "stream",
     "text": [
      "11\n"
     ]
    }
   ],
   "source": [
    "import pandas as pd\n",
    "from nrclex import NRCLex\n",
    "\n",
    "text = \"Explore the fascinating world of Myers-Briggs personality types. Whether you're a seasoned enthusiast or a newcomer, discover more about yourself by sharing a post from your forum or a similar platform, and let us predict your Myers-Briggs personality type.\"\n",
    "\n",
    "text2 = \"I usually become scared and freeze, I feel lost and dont know what to do. It takes sometime until I adjust to new situations. about 5 months ago, I moved out of my parents home which was really hard for me. And I did something weird. I took my old mp3 player, that still contained all the songs that I listened to around 10-12 years ago. I put it on and went through the new town, in hopes to connect the old nostalgic memories that were induced by the music to the impressions from my new home. and apart from that I just waited it out, because I knew from past experiences that I'll adjust and get used to it eventually. But nonetheless, it was and is still really hard for me. Its been five months and I still havent fully adjusted yet.\"\n",
    "\n",
    "text_object = NRCLex(text2)\n",
    "emotion_counts = text_object.affect_frequencies\n",
    "emotion_df = pd.DataFrame(emotion_counts, index=[0])\n",
    "\n",
    "# Add a fake emotion with value 0 if there are fewer than 11 emotions\n",
    "if emotion_df.shape[1] < 11:\n",
    "    fake_emotion = {'fake_emotion': 0}\n",
    "    emotion_df = emotion_df.join(pd.DataFrame(fake_emotion, index=[0]))\n",
    "\n",
    "print(emotion_df.shape[1])\n",
    "print(emotion_df.shape[1])\n"
   ]
  }
 ],
 "metadata": {
  "kernelspec": {
   "display_name": "Python 3",
   "language": "python",
   "name": "python3"
  },
  "language_info": {
   "codemirror_mode": {
    "name": "ipython",
    "version": 3
   },
   "file_extension": ".py",
   "mimetype": "text/x-python",
   "name": "python",
   "nbconvert_exporter": "python",
   "pygments_lexer": "ipython3",
   "version": "3.10.4"
  }
 },
 "nbformat": 4,
 "nbformat_minor": 2
}
